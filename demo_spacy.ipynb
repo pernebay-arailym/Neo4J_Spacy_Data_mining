{
 "cells": [
  {
   "cell_type": "code",
   "execution_count": null,
   "id": "9eb9c8d7",
   "metadata": {},
   "outputs": [
    {
     "data": {
      "text/html": [
       "<span class=\"tex2jax_ignore\"><svg xmlns=\"http://www.w3.org/2000/svg\" xmlns:xlink=\"http://www.w3.org/1999/xlink\" xml:lang=\"fr\" id=\"49341e31a677449baeef92814398b892-0\" class=\"displacy\" width=\"925\" height=\"312.0\" direction=\"ltr\" style=\"max-width: none; height: 312.0px; color: #000000; background: #ffffff; font-family: Arial; direction: ltr\">\n",
       "<text class=\"displacy-token\" fill=\"currentColor\" text-anchor=\"middle\" y=\"222.0\">\n",
       "    <tspan class=\"displacy-word\" fill=\"currentColor\" x=\"50\">Le</tspan>\n",
       "    <tspan class=\"displacy-tag\" dy=\"2em\" fill=\"currentColor\" x=\"50\">DET</tspan>\n",
       "</text>\n",
       "\n",
       "<text class=\"displacy-token\" fill=\"currentColor\" text-anchor=\"middle\" y=\"222.0\">\n",
       "    <tspan class=\"displacy-word\" fill=\"currentColor\" x=\"225\">chat</tspan>\n",
       "    <tspan class=\"displacy-tag\" dy=\"2em\" fill=\"currentColor\" x=\"225\">NOUN</tspan>\n",
       "</text>\n",
       "\n",
       "<text class=\"displacy-token\" fill=\"currentColor\" text-anchor=\"middle\" y=\"222.0\">\n",
       "    <tspan class=\"displacy-word\" fill=\"currentColor\" x=\"400\">mange</tspan>\n",
       "    <tspan class=\"displacy-tag\" dy=\"2em\" fill=\"currentColor\" x=\"400\">VERB</tspan>\n",
       "</text>\n",
       "\n",
       "<text class=\"displacy-token\" fill=\"currentColor\" text-anchor=\"middle\" y=\"222.0\">\n",
       "    <tspan class=\"displacy-word\" fill=\"currentColor\" x=\"575\">une</tspan>\n",
       "    <tspan class=\"displacy-tag\" dy=\"2em\" fill=\"currentColor\" x=\"575\">DET</tspan>\n",
       "</text>\n",
       "\n",
       "<text class=\"displacy-token\" fill=\"currentColor\" text-anchor=\"middle\" y=\"222.0\">\n",
       "    <tspan class=\"displacy-word\" fill=\"currentColor\" x=\"750\">souris.</tspan>\n",
       "    <tspan class=\"displacy-tag\" dy=\"2em\" fill=\"currentColor\" x=\"750\">NOUN</tspan>\n",
       "</text>\n",
       "\n",
       "<g class=\"displacy-arrow\">\n",
       "    <path class=\"displacy-arc\" id=\"arrow-49341e31a677449baeef92814398b892-0-0\" stroke-width=\"2px\" d=\"M70,177.0 C70,89.5 220.0,89.5 220.0,177.0\" fill=\"none\" stroke=\"currentColor\"/>\n",
       "    <text dy=\"1.25em\" style=\"font-size: 0.8em; letter-spacing: 1px\">\n",
       "        <textPath xlink:href=\"#arrow-49341e31a677449baeef92814398b892-0-0\" class=\"displacy-label\" startOffset=\"50%\" side=\"left\" fill=\"currentColor\" text-anchor=\"middle\">det</textPath>\n",
       "    </text>\n",
       "    <path class=\"displacy-arrowhead\" d=\"M70,179.0 L62,167.0 78,167.0\" fill=\"currentColor\"/>\n",
       "</g>\n",
       "\n",
       "<g class=\"displacy-arrow\">\n",
       "    <path class=\"displacy-arc\" id=\"arrow-49341e31a677449baeef92814398b892-0-1\" stroke-width=\"2px\" d=\"M245,177.0 C245,89.5 395.0,89.5 395.0,177.0\" fill=\"none\" stroke=\"currentColor\"/>\n",
       "    <text dy=\"1.25em\" style=\"font-size: 0.8em; letter-spacing: 1px\">\n",
       "        <textPath xlink:href=\"#arrow-49341e31a677449baeef92814398b892-0-1\" class=\"displacy-label\" startOffset=\"50%\" side=\"left\" fill=\"currentColor\" text-anchor=\"middle\">nsubj</textPath>\n",
       "    </text>\n",
       "    <path class=\"displacy-arrowhead\" d=\"M245,179.0 L237,167.0 253,167.0\" fill=\"currentColor\"/>\n",
       "</g>\n",
       "\n",
       "<g class=\"displacy-arrow\">\n",
       "    <path class=\"displacy-arc\" id=\"arrow-49341e31a677449baeef92814398b892-0-2\" stroke-width=\"2px\" d=\"M595,177.0 C595,89.5 745.0,89.5 745.0,177.0\" fill=\"none\" stroke=\"currentColor\"/>\n",
       "    <text dy=\"1.25em\" style=\"font-size: 0.8em; letter-spacing: 1px\">\n",
       "        <textPath xlink:href=\"#arrow-49341e31a677449baeef92814398b892-0-2\" class=\"displacy-label\" startOffset=\"50%\" side=\"left\" fill=\"currentColor\" text-anchor=\"middle\">det</textPath>\n",
       "    </text>\n",
       "    <path class=\"displacy-arrowhead\" d=\"M595,179.0 L587,167.0 603,167.0\" fill=\"currentColor\"/>\n",
       "</g>\n",
       "\n",
       "<g class=\"displacy-arrow\">\n",
       "    <path class=\"displacy-arc\" id=\"arrow-49341e31a677449baeef92814398b892-0-3\" stroke-width=\"2px\" d=\"M420,177.0 C420,2.0 750.0,2.0 750.0,177.0\" fill=\"none\" stroke=\"currentColor\"/>\n",
       "    <text dy=\"1.25em\" style=\"font-size: 0.8em; letter-spacing: 1px\">\n",
       "        <textPath xlink:href=\"#arrow-49341e31a677449baeef92814398b892-0-3\" class=\"displacy-label\" startOffset=\"50%\" side=\"left\" fill=\"currentColor\" text-anchor=\"middle\">obj</textPath>\n",
       "    </text>\n",
       "    <path class=\"displacy-arrowhead\" d=\"M750.0,179.0 L758.0,167.0 742.0,167.0\" fill=\"currentColor\"/>\n",
       "</g>\n",
       "</svg></span>"
      ],
      "text/plain": [
       "<IPython.core.display.HTML object>"
      ]
     },
     "metadata": {},
     "output_type": "display_data"
    }
   ],
   "source": [
    "import spacy\n",
    "from spacy import displacy\n",
    "from IPython.display import HTML, display\n",
    "import pandas as pd\n",
    "import numpy as np\n",
    "\n",
    "#load the French model\n",
    "nlp = spacy.load(\"fr_core_news_sm\")\n",
    "\n",
    "# Load your text\n",
    "TEXT = \"Le chat mange une souris.\"\n",
    "\n",
    "doc = nlp(TEXT)\n",
    "\n",
    "displacy.render(doc, style=\"dep\", jupyter=True)"
   ]
  },
  {
   "cell_type": "code",
   "execution_count": 2,
   "id": "b2124df0",
   "metadata": {},
   "outputs": [],
   "source": [
    "token_infos_lines = []\n",
    "\n",
    "for token in doc:\n",
    "    token_infos_lines.append((token.text, token.lemma_, token.pos_, token.dep_,  token.idx, token.head, token.head.idx))"
   ]
  },
  {
   "cell_type": "code",
   "execution_count": 7,
   "id": "e5f4c9b9",
   "metadata": {},
   "outputs": [
    {
     "data": {
      "text/html": [
       "<div>\n",
       "<style scoped>\n",
       "    .dataframe tbody tr th:only-of-type {\n",
       "        vertical-align: middle;\n",
       "    }\n",
       "\n",
       "    .dataframe tbody tr th {\n",
       "        vertical-align: top;\n",
       "    }\n",
       "\n",
       "    .dataframe thead th {\n",
       "        text-align: right;\n",
       "    }\n",
       "</style>\n",
       "<table border=\"1\" class=\"dataframe\">\n",
       "  <thead>\n",
       "    <tr style=\"text-align: right;\">\n",
       "      <th></th>\n",
       "      <th>text</th>\n",
       "      <th>lemma</th>\n",
       "      <th>pos</th>\n",
       "      <th>dep</th>\n",
       "      <th>idx</th>\n",
       "      <th>head</th>\n",
       "      <th>head_idx</th>\n",
       "    </tr>\n",
       "  </thead>\n",
       "  <tbody>\n",
       "    <tr>\n",
       "      <th>0</th>\n",
       "      <td>Le</td>\n",
       "      <td>le</td>\n",
       "      <td>DET</td>\n",
       "      <td>det</td>\n",
       "      <td>0</td>\n",
       "      <td>chat</td>\n",
       "      <td>3</td>\n",
       "    </tr>\n",
       "    <tr>\n",
       "      <th>1</th>\n",
       "      <td>chat</td>\n",
       "      <td>chat</td>\n",
       "      <td>NOUN</td>\n",
       "      <td>nsubj</td>\n",
       "      <td>3</td>\n",
       "      <td>mange</td>\n",
       "      <td>8</td>\n",
       "    </tr>\n",
       "    <tr>\n",
       "      <th>2</th>\n",
       "      <td>mange</td>\n",
       "      <td>manger</td>\n",
       "      <td>VERB</td>\n",
       "      <td>ROOT</td>\n",
       "      <td>8</td>\n",
       "      <td>mange</td>\n",
       "      <td>8</td>\n",
       "    </tr>\n",
       "    <tr>\n",
       "      <th>3</th>\n",
       "      <td>une</td>\n",
       "      <td>un</td>\n",
       "      <td>DET</td>\n",
       "      <td>det</td>\n",
       "      <td>14</td>\n",
       "      <td>souris</td>\n",
       "      <td>18</td>\n",
       "    </tr>\n",
       "    <tr>\n",
       "      <th>4</th>\n",
       "      <td>souris</td>\n",
       "      <td>souris</td>\n",
       "      <td>NOUN</td>\n",
       "      <td>obj</td>\n",
       "      <td>18</td>\n",
       "      <td>mange</td>\n",
       "      <td>8</td>\n",
       "    </tr>\n",
       "    <tr>\n",
       "      <th>5</th>\n",
       "      <td>.</td>\n",
       "      <td>.</td>\n",
       "      <td>PUNCT</td>\n",
       "      <td>punct</td>\n",
       "      <td>24</td>\n",
       "      <td>mange</td>\n",
       "      <td>8</td>\n",
       "    </tr>\n",
       "  </tbody>\n",
       "</table>\n",
       "</div>"
      ],
      "text/plain": [
       "     text   lemma    pos    dep  idx    head  head_idx\n",
       "0      Le      le    DET    det    0    chat         3\n",
       "1    chat    chat   NOUN  nsubj    3   mange         8\n",
       "2   mange  manger   VERB   ROOT    8   mange         8\n",
       "3     une      un    DET    det   14  souris        18\n",
       "4  souris  souris   NOUN    obj   18   mange         8\n",
       "5       .       .  PUNCT  punct   24   mange         8"
      ]
     },
     "metadata": {},
     "output_type": "display_data"
    }
   ],
   "source": [
    "df_tokens = pd.DataFrame(token_infos_lines, columns=['text', 'lemma', 'pos','dep', 'idx',  'head', 'head_idx'])\n",
    "display(df_tokens)"
   ]
  },
  {
   "cell_type": "code",
   "execution_count": 8,
   "id": "ea37affc",
   "metadata": {},
   "outputs": [],
   "source": [
    "# Build token nodes and dependency edges\n",
    "tokens = []\n",
    "deps = []\n",
    "\n",
    "doc_id = \"text1\"\n",
    "\n",
    "for token in doc:\n",
    "    uid = f\"{doc_id}:{token.i}\"\n",
    "    tokens.append({\n",
    "        \"uid\": uid,\n",
    "        \"text\": token.text,\n",
    "        \"lemma\": token.lemma_,\n",
    "        \"pos\": token.pos_,\n",
    "        \"dep\": token.dep_\n",
    "    })\n",
    "    if token.head.i != token.i:\n",
    "        deps.append({\n",
    "            \"head_uid\": f\"{doc_id}:{token.head.i}\",\n",
    "            \"child_uid\": uid,\n",
    "            \"label\": token.dep_\n",
    "        })"
   ]
  },
  {
   "cell_type": "code",
   "execution_count": 9,
   "id": "4ba17c22",
   "metadata": {},
   "outputs": [
    {
     "ename": "NameError",
     "evalue": "name 'np' is not defined",
     "output_type": "error",
     "traceback": [
      "\u001b[31m---------------------------------------------------------------------------\u001b[39m",
      "\u001b[31mNameError\u001b[39m                                 Traceback (most recent call last)",
      "\u001b[36mCell\u001b[39m\u001b[36m \u001b[39m\u001b[32mIn[9]\u001b[39m\u001b[32m, line 4\u001b[39m\n\u001b[32m      2\u001b[39m N = \u001b[38;5;28mlen\u001b[39m(tokens)\n\u001b[32m      3\u001b[39m uid_to_index = {token[\u001b[33m\"\u001b[39m\u001b[33muid\u001b[39m\u001b[33m\"\u001b[39m]: i \u001b[38;5;28;01mfor\u001b[39;00m i, token \u001b[38;5;129;01min\u001b[39;00m \u001b[38;5;28menumerate\u001b[39m(tokens)}\n\u001b[32m----> \u001b[39m\u001b[32m4\u001b[39m adj_matrix = \u001b[43mnp\u001b[49m.zeros((N, N), dtype=\u001b[38;5;28mint\u001b[39m)\n\u001b[32m      6\u001b[39m \u001b[38;5;28;01mfor\u001b[39;00m rel \u001b[38;5;129;01min\u001b[39;00m deps:\n\u001b[32m      7\u001b[39m     i = uid_to_index[rel[\u001b[33m\"\u001b[39m\u001b[33mhead_uid\u001b[39m\u001b[33m\"\u001b[39m]]\n",
      "\u001b[31mNameError\u001b[39m: name 'np' is not defined"
     ]
    }
   ],
   "source": [
    "# Build adjacency matrix\n",
    "N = len(tokens)\n",
    "uid_to_index = {token[\"uid\"]: i for i, token in enumerate(tokens)}\n",
    "adj_matrix = np.zeros((N, N), dtype=int)\n",
    "\n",
    "for rel in deps:\n",
    "    i = uid_to_index[rel[\"head_uid\"]]\n",
    "    j = uid_to_index[rel[\"child_uid\"]]\n",
    "    adj_matrix[i, j] = 1\n"
   ]
  },
  {
   "cell_type": "code",
   "execution_count": 10,
   "id": "04fe654e",
   "metadata": {},
   "outputs": [
    {
     "ename": "NameError",
     "evalue": "name 'adj_matrix' is not defined",
     "output_type": "error",
     "traceback": [
      "\u001b[31m---------------------------------------------------------------------------\u001b[39m",
      "\u001b[31mNameError\u001b[39m                                 Traceback (most recent call last)",
      "\u001b[36mCell\u001b[39m\u001b[36m \u001b[39m\u001b[32mIn[10]\u001b[39m\u001b[32m, line 1\u001b[39m\n\u001b[32m----> \u001b[39m\u001b[32m1\u001b[39m \u001b[38;5;28mprint\u001b[39m(\u001b[33m\"\u001b[39m\u001b[33mAdjacency matrix shape:\u001b[39m\u001b[33m\"\u001b[39m, \u001b[43madj_matrix\u001b[49m.shape)\n\u001b[32m      2\u001b[39m \u001b[38;5;28mprint\u001b[39m(\u001b[33m\"\u001b[39m\u001b[33mNumber of edges:\u001b[39m\u001b[33m\"\u001b[39m, adj_matrix.sum())\n",
      "\u001b[31mNameError\u001b[39m: name 'adj_matrix' is not defined"
     ]
    }
   ],
   "source": [
    "print(\"Adjacency matrix shape:\", adj_matrix.shape)\n",
    "print(\"Number of edges:\", adj_matrix.sum())"
   ]
  },
  {
   "cell_type": "code",
   "execution_count": 5,
   "id": "ccdae8af",
   "metadata": {},
   "outputs": [
    {
     "name": "stdout",
     "output_type": "stream",
     "text": [
      "Le chat dort sur le canapé.\n",
      "Le chien dort dans sa niche.\n"
     ]
    }
   ],
   "source": [
    "# Autre exemple, on peut séparer logiquement le texte par phrase :\n",
    "\n",
    "TEXT2 = \"Le chat dort sur le canapé. Le chien dort dans sa niche.\"\n",
    "doc = nlp(TEXT2)\n",
    "\n",
    "for sentence in doc.sents:\n",
    "    print(sentence)"
   ]
  },
  {
   "cell_type": "markdown",
   "id": "f729c3ac",
   "metadata": {},
   "source": [
    "\n",
    "\n",
    "Si vous avez cette erreur :\n",
    "\n",
    "https://github.com/explosion/spacy/issues/13864\n",
    "\n",
    "avec \n",
    "```\n",
    "displacy.render(doc, style=\"dep\", jupyter=True)\n",
    "```\n",
    "\n",
    "changez dans le fichier incriminé :\n",
    "```\n",
    "from IPython.core.display import HTML, display\n",
    "```\n",
    "\n",
    "par : \n",
    "```\n",
    "from IPython.display import HTML, display\n",
    "```"
   ]
  },
  {
   "cell_type": "markdown",
   "id": "8d399cdb",
   "metadata": {},
   "source": [
    "# PERSONAL NOTE\n",
    "Create a venv (in a folder called .venv)\n",
    "```\n",
    "python3.13 -m venv .venv\n",
    "```\n",
    "Activate it\n",
    "```\n",
    "source .venv/bin/activate\n",
    "```\n",
    "\n",
    "Install spacy inside the venv\n",
    "```\n",
    "pip install -U pip\n",
    "pip install spacy\n",
    "```\n",
    "\n",
    "install ipykernel inside venv\n",
    "```\n",
    "pip install ipykernel\n",
    "```\n",
    "\n",
    "add venv as a Jupyter kernel\n",
    "```\n",
    "python -m ipykernel install --user --name=myvenv --display-name \"Python (myvenv)\"\n",
    "```"
   ]
  }
 ],
 "metadata": {
  "kernelspec": {
   "display_name": ".venv (3.13.0)",
   "language": "python",
   "name": "python3"
  },
  "language_info": {
   "codemirror_mode": {
    "name": "ipython",
    "version": 3
   },
   "file_extension": ".py",
   "mimetype": "text/x-python",
   "name": "python",
   "nbconvert_exporter": "python",
   "pygments_lexer": "ipython3",
   "version": "3.13.0"
  }
 },
 "nbformat": 4,
 "nbformat_minor": 5
}
