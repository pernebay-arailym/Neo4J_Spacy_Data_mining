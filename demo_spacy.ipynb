{
 "cells": [
  {
   "cell_type": "code",
   "execution_count": 4,
   "id": "9eb9c8d7",
   "metadata": {},
   "outputs": [],
   "source": [
    "import spacy\n",
    "from spacy import displacy\n",
    "from IPython.display import HTML, display\n",
    "import pandas as pd\n",
    "\n",
    "nlp = spacy.load(\"fr_core_news_sm\")\n",
    "\n",
    "\n",
    "TEXT = \"Le chat mange une souris.\"\n",
    "\n",
    "doc = nlp(TEXT)"
   ]
  },
  {
   "cell_type": "code",
   "execution_count": 5,
   "id": "b2124df0",
   "metadata": {},
   "outputs": [],
   "source": [
    "token_infos_lines = []\n",
    "\n",
    "for token in doc:\n",
    "    token_infos_lines.append((token.text, token.lemma_, token.pos_, token.dep_,  token.idx, token.head, token.head.idx))"
   ]
  },
  {
   "cell_type": "code",
   "execution_count": 6,
   "id": "e5f4c9b9",
   "metadata": {},
   "outputs": [
    {
     "ename": "ImportError",
     "evalue": "cannot import name 'display' from 'IPython.core.display' (/Users/pernebayarailym/Documents/Portfolio_Projects_AP/Simplon_DE_Projects/Python_Projects/Neo4J_Spacy_Data_mining/.venv/lib/python3.13/site-packages/IPython/core/display.py)",
     "output_type": "error",
     "traceback": [
      "\u001b[31m---------------------------------------------------------------------------\u001b[39m",
      "\u001b[31mImportError\u001b[39m                               Traceback (most recent call last)",
      "\u001b[36mCell\u001b[39m\u001b[36m \u001b[39m\u001b[32mIn[6]\u001b[39m\u001b[32m, line 1\u001b[39m\n\u001b[32m----> \u001b[39m\u001b[32m1\u001b[39m \u001b[43mdisplacy\u001b[49m\u001b[43m.\u001b[49m\u001b[43mrender\u001b[49m\u001b[43m(\u001b[49m\u001b[43mdoc\u001b[49m\u001b[43m,\u001b[49m\u001b[43m \u001b[49m\u001b[43mstyle\u001b[49m\u001b[43m=\u001b[49m\u001b[33;43m\"\u001b[39;49m\u001b[33;43mdep\u001b[39;49m\u001b[33;43m\"\u001b[39;49m\u001b[43m,\u001b[49m\u001b[43m \u001b[49m\u001b[43mjupyter\u001b[49m\u001b[43m=\u001b[49m\u001b[38;5;28;43;01mTrue\u001b[39;49;00m\u001b[43m)\u001b[49m\n",
      "\u001b[36mFile \u001b[39m\u001b[32m~/Documents/Portfolio_Projects_AP/Simplon_DE_Projects/Python_Projects/Neo4J_Spacy_Data_mining/.venv/lib/python3.13/site-packages/spacy/displacy/__init__.py:69\u001b[39m, in \u001b[36mrender\u001b[39m\u001b[34m(docs, style, page, minify, jupyter, options, manual)\u001b[39m\n\u001b[32m     65\u001b[39m     html = RENDER_WRAPPER(html)\n\u001b[32m     66\u001b[39m \u001b[38;5;28;01mif\u001b[39;00m jupyter \u001b[38;5;129;01mor\u001b[39;00m (jupyter \u001b[38;5;129;01mis\u001b[39;00m \u001b[38;5;28;01mNone\u001b[39;00m \u001b[38;5;129;01mand\u001b[39;00m is_in_jupyter()):\n\u001b[32m     67\u001b[39m     \u001b[38;5;66;03m# return HTML rendered by IPython display()\u001b[39;00m\n\u001b[32m     68\u001b[39m     \u001b[38;5;66;03m# See #4840 for details on span wrapper to disable mathjax\u001b[39;00m\n\u001b[32m---> \u001b[39m\u001b[32m69\u001b[39m     \u001b[38;5;28;01mfrom\u001b[39;00m\u001b[38;5;250m \u001b[39m\u001b[34;01mIPython\u001b[39;00m\u001b[34;01m.\u001b[39;00m\u001b[34;01mcore\u001b[39;00m\u001b[34;01m.\u001b[39;00m\u001b[34;01mdisplay\u001b[39;00m\u001b[38;5;250m \u001b[39m\u001b[38;5;28;01mimport\u001b[39;00m HTML, display\n\u001b[32m     71\u001b[39m     \u001b[38;5;28;01mreturn\u001b[39;00m display(HTML(\u001b[33m'\u001b[39m\u001b[33m<span class=\u001b[39m\u001b[33m\"\u001b[39m\u001b[33mtex2jax_ignore\u001b[39m\u001b[33m\"\u001b[39m\u001b[33m>\u001b[39m\u001b[38;5;132;01m{}\u001b[39;00m\u001b[33m</span>\u001b[39m\u001b[33m'\u001b[39m.format(html)))\n\u001b[32m     72\u001b[39m \u001b[38;5;28;01mreturn\u001b[39;00m html\n",
      "\u001b[31mImportError\u001b[39m: cannot import name 'display' from 'IPython.core.display' (/Users/pernebayarailym/Documents/Portfolio_Projects_AP/Simplon_DE_Projects/Python_Projects/Neo4J_Spacy_Data_mining/.venv/lib/python3.13/site-packages/IPython/core/display.py)"
     ]
    }
   ],
   "source": [
    "displacy.render(doc, style=\"dep\", jupyter=True)"
   ]
  },
  {
   "cell_type": "code",
   "execution_count": null,
   "id": "ea37affc",
   "metadata": {},
   "outputs": [
    {
     "data": {
      "text/html": [
       "<div>\n",
       "<style scoped>\n",
       "    .dataframe tbody tr th:only-of-type {\n",
       "        vertical-align: middle;\n",
       "    }\n",
       "\n",
       "    .dataframe tbody tr th {\n",
       "        vertical-align: top;\n",
       "    }\n",
       "\n",
       "    .dataframe thead th {\n",
       "        text-align: right;\n",
       "    }\n",
       "</style>\n",
       "<table border=\"1\" class=\"dataframe\">\n",
       "  <thead>\n",
       "    <tr style=\"text-align: right;\">\n",
       "      <th></th>\n",
       "      <th>text</th>\n",
       "      <th>lemma</th>\n",
       "      <th>pos</th>\n",
       "      <th>dep</th>\n",
       "      <th>idx</th>\n",
       "      <th>head</th>\n",
       "      <th>head_idx</th>\n",
       "    </tr>\n",
       "  </thead>\n",
       "  <tbody>\n",
       "    <tr>\n",
       "      <th>0</th>\n",
       "      <td>Le</td>\n",
       "      <td>le</td>\n",
       "      <td>DET</td>\n",
       "      <td>det</td>\n",
       "      <td>0</td>\n",
       "      <td>chat</td>\n",
       "      <td>3</td>\n",
       "    </tr>\n",
       "    <tr>\n",
       "      <th>1</th>\n",
       "      <td>chat</td>\n",
       "      <td>chat</td>\n",
       "      <td>NOUN</td>\n",
       "      <td>nsubj</td>\n",
       "      <td>3</td>\n",
       "      <td>mange</td>\n",
       "      <td>8</td>\n",
       "    </tr>\n",
       "    <tr>\n",
       "      <th>2</th>\n",
       "      <td>mange</td>\n",
       "      <td>manger</td>\n",
       "      <td>VERB</td>\n",
       "      <td>ROOT</td>\n",
       "      <td>8</td>\n",
       "      <td>mange</td>\n",
       "      <td>8</td>\n",
       "    </tr>\n",
       "    <tr>\n",
       "      <th>3</th>\n",
       "      <td>une</td>\n",
       "      <td>un</td>\n",
       "      <td>DET</td>\n",
       "      <td>det</td>\n",
       "      <td>14</td>\n",
       "      <td>souris</td>\n",
       "      <td>18</td>\n",
       "    </tr>\n",
       "    <tr>\n",
       "      <th>4</th>\n",
       "      <td>souris</td>\n",
       "      <td>souris</td>\n",
       "      <td>NOUN</td>\n",
       "      <td>obj</td>\n",
       "      <td>18</td>\n",
       "      <td>mange</td>\n",
       "      <td>8</td>\n",
       "    </tr>\n",
       "    <tr>\n",
       "      <th>5</th>\n",
       "      <td>.</td>\n",
       "      <td>.</td>\n",
       "      <td>PUNCT</td>\n",
       "      <td>punct</td>\n",
       "      <td>24</td>\n",
       "      <td>mange</td>\n",
       "      <td>8</td>\n",
       "    </tr>\n",
       "  </tbody>\n",
       "</table>\n",
       "</div>"
      ],
      "text/plain": [
       "     text   lemma    pos    dep  idx    head  head_idx\n",
       "0      Le      le    DET    det    0    chat         3\n",
       "1    chat    chat   NOUN  nsubj    3   mange         8\n",
       "2   mange  manger   VERB   ROOT    8   mange         8\n",
       "3     une      un    DET    det   14  souris        18\n",
       "4  souris  souris   NOUN    obj   18   mange         8\n",
       "5       .       .  PUNCT  punct   24   mange         8"
      ]
     },
     "execution_count": 11,
     "metadata": {},
     "output_type": "execute_result"
    }
   ],
   "source": [
    "pd.DataFrame(token_infos_lines, columns=['text', 'lemma', 'pos','dep', 'idx',  'head', 'head_idx'])"
   ]
  },
  {
   "cell_type": "code",
   "execution_count": null,
   "id": "ccdae8af",
   "metadata": {},
   "outputs": [
    {
     "name": "stdout",
     "output_type": "stream",
     "text": [
      "Le chat dort sur le canapé.\n",
      "Le chien dort dans sa niche.\n"
     ]
    }
   ],
   "source": [
    "# Autre exemple, on peut séparer logiquement le texte par phrase :\n",
    "\n",
    "TEXT2 = \"Le chat dort sur le canapé. Le chien dort dans sa niche.\"\n",
    "doc = nlp(TEXT2)\n",
    "\n",
    "for sentence in doc.sents:\n",
    "    print(sentence)"
   ]
  },
  {
   "cell_type": "markdown",
   "id": "f729c3ac",
   "metadata": {},
   "source": [
    "\n",
    "\n",
    "Si vous avez cette erreur :\n",
    "\n",
    "https://github.com/explosion/spacy/issues/13864\n",
    "\n",
    "avec \n",
    "```\n",
    "displacy.render(doc, style=\"dep\", jupyter=True)\n",
    "```\n",
    "\n",
    "changez dans le fichier incriminé :\n",
    "```\n",
    "from IPython.core.display import HTML, display\n",
    "```\n",
    "\n",
    "par : \n",
    "```\n",
    "from IPython.display import HTML, display\n",
    "```"
   ]
  },
  {
   "cell_type": "markdown",
   "id": "8d399cdb",
   "metadata": {},
   "source": [
    "# PERSONAL NOTE\n",
    "Create a venv (in a folder called .venv)\n",
    "```\n",
    "python3.13 -m venv .venv\n",
    "```\n",
    "Activate it\n",
    "```\n",
    "source .venv/bin/activate\n",
    "```\n",
    "\n",
    "Install spacy inside the venv\n",
    "```\n",
    "pip install -U pip\n",
    "pip install spacy\n",
    "```\n",
    "\n",
    "install ipykernel inside venv\n",
    "```\n",
    "pip install ipykernel\n",
    "```\n",
    "\n",
    "add venv as a Jupyter kernel\n",
    "```\n",
    "python -m ipykernel install --user --name=myvenv --display-name \"Python (myvenv)\"\n",
    "```"
   ]
  }
 ],
 "metadata": {
  "kernelspec": {
   "display_name": ".venv (3.13.0)",
   "language": "python",
   "name": "python3"
  },
  "language_info": {
   "codemirror_mode": {
    "name": "ipython",
    "version": 3
   },
   "file_extension": ".py",
   "mimetype": "text/x-python",
   "name": "python",
   "nbconvert_exporter": "python",
   "pygments_lexer": "ipython3",
   "version": "3.13.0"
  }
 },
 "nbformat": 4,
 "nbformat_minor": 5
}
